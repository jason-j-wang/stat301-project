{
 "cells": [
  {
   "cell_type": "code",
   "execution_count": 1,
   "id": "5ef3224d-4809-4488-be66-a673d7c5c23a",
   "metadata": {
    "tags": [],
    "vscode": {
     "languageId": "r"
    }
   },
   "outputs": [
    {
     "name": "stderr",
     "output_type": "stream",
     "text": [
      "── \u001b[1mAttaching core tidyverse packages\u001b[22m ──────────────────────── tidyverse 2.0.0 ──\n",
      "\u001b[32m✔\u001b[39m \u001b[34mdplyr    \u001b[39m 1.1.4     \u001b[32m✔\u001b[39m \u001b[34mreadr    \u001b[39m 2.1.4\n",
      "\u001b[32m✔\u001b[39m \u001b[34mforcats  \u001b[39m 1.0.0     \u001b[32m✔\u001b[39m \u001b[34mstringr  \u001b[39m 1.5.1\n",
      "\u001b[32m✔\u001b[39m \u001b[34mggplot2  \u001b[39m 3.4.4     \u001b[32m✔\u001b[39m \u001b[34mtibble   \u001b[39m 3.2.1\n",
      "\u001b[32m✔\u001b[39m \u001b[34mlubridate\u001b[39m 1.9.3     \u001b[32m✔\u001b[39m \u001b[34mtidyr    \u001b[39m 1.3.0\n",
      "\u001b[32m✔\u001b[39m \u001b[34mpurrr    \u001b[39m 1.0.2     \n",
      "── \u001b[1mConflicts\u001b[22m ────────────────────────────────────────── tidyverse_conflicts() ──\n",
      "\u001b[31m✖\u001b[39m \u001b[34mdplyr\u001b[39m::\u001b[32mfilter()\u001b[39m masks \u001b[34mstats\u001b[39m::filter()\n",
      "\u001b[31m✖\u001b[39m \u001b[34mdplyr\u001b[39m::\u001b[32mlag()\u001b[39m    masks \u001b[34mstats\u001b[39m::lag()\n",
      "\u001b[36mℹ\u001b[39m Use the conflicted package (\u001b[3m\u001b[34m<http://conflicted.r-lib.org/>\u001b[39m\u001b[23m) to force all conflicts to become errors\n",
      "\n",
      "Attaching package: ‘data.table’\n",
      "\n",
      "\n",
      "The following objects are masked from ‘package:lubridate’:\n",
      "\n",
      "    hour, isoweek, mday, minute, month, quarter, second, wday, week,\n",
      "    yday, year\n",
      "\n",
      "\n",
      "The following objects are masked from ‘package:dplyr’:\n",
      "\n",
      "    between, first, last\n",
      "\n",
      "\n",
      "The following object is masked from ‘package:purrr’:\n",
      "\n",
      "    transpose\n",
      "\n",
      "\n"
     ]
    }
   ],
   "source": [
    "library(tidyverse)\n",
    "library(data.table)\n",
    "#comment\n",
    "#another comment"
   ]
  },
  {
   "cell_type": "markdown",
   "id": "c358f956-3987-4681-b73d-51a2dbf6c085",
   "metadata": {},
   "source": [
    "# 1. Data Description"
   ]
  },
  {
   "cell_type": "markdown",
   "id": "e375d54f-baeb-4f2c-a5a3-664ffac4a21a",
   "metadata": {},
   "source": [
    "The Cleveland Heart Disease dataset from 1988 was donated to the UCI Machine Learning Repository and contains 303 observations of patients from Cleveland, Ohio, USA. Some patients in the dataset have heart disease while some others do not. The dataset has 14 total variables. The description of each is as follows:"
   ]
  },
  {
   "cell_type": "markdown",
   "id": "0a93c93e-3a0f-42de-a892-fa39a012ca4a",
   "metadata": {},
   "source": [
    "- `age`: The age in $\\text{years}$.\n",
    "- `sex`: The sex.\n",
    "    - 0: female\n",
    "    - 1: male\n",
    "- `cp`: Type of chest pain.\n",
    "    - 1: Typical angina\n",
    "    - 2: Atypical angina\n",
    "    - 3: Non-anginal pain\n",
    "    - 4: Asymptomatic\n",
    "- `trestbps`: Resting blood pressure in $\\text{mm Hg}$.\n",
    "- `chol`: Serum cholestoral in $\\text{mg/dl}$.\n",
    "- `fbs`: Is fasting blood sugar > 120 mg/dl?\n",
    "    - 0: False\n",
    "    - 1: True\n",
    "- `restecg`: Resting electrocardiographic results\n",
    "    - 0: Normal\n",
    "    - 1: Having ST-T wave abnormality\n",
    "    - 2: Showing probable or definite left ventricular hypertrophy by Estes' criteria\n",
    "- `thalach`: Maximum heart rate achieved.\n",
    "- `exang`: Exercise induced angina.\n",
    "    - 0: No\n",
    "    - 1: Yes\n",
    "- `oldpeak`: ST depression induced by exercise relative to rest.\n",
    "- `slope`: The slope of the peak exercise ST segment\n",
    "    - 1: Upsloping\n",
    "    - 2: Flat\n",
    "    - 3: Downsloping\n",
    "- `ca`: Number of major vessels (0-3) coloured by flourosopy. (Categorical)\n",
    "- `thal`: Thalassemia.\n",
    "    - 3: Normal\n",
    "    - 6: Fixed defect\n",
    "    - 7: Reversible defect\n",
    "- `num`: Diagnosis of heart disease (angiographic disease status).\n",
    "    - 0: Heart disease is absent\n",
    "    - 1-4: Heart disease is present"
   ]
  },
  {
   "cell_type": "markdown",
   "id": "399fb0b6-02e2-4208-98f8-e7d71abbc0e7",
   "metadata": {
    "tags": []
   },
   "source": [
    "# 2. Question"
   ]
  },
  {
   "cell_type": "markdown",
   "id": "2f9cb9ca-a1ee-4495-80c7-81a5d997b939",
   "metadata": {},
   "source": [
    "Because heart disease is very serious, it is very important to be able to identify heart disease when it is present in a patient. Thus, the question we will be focusing on prediction and is as follows: What are the most effective attributes in identifying heart disease and how accurately can we identify heart disease using them? <br>\n",
    "Since we are trying to predict heart disease, our response variable will be `num`. However, since `num` is a categorical variable that ranges from 0-4, we will have to mutate the variables to be either `Yes` or `No` for our question since we aren't interested in predicting the type of heart disease. The input variables will be some amount of the remaining 13 attributes in the dataset. Since we don't know which ones are effective and which may be redundant, the number of input variables is currently unknown."
   ]
  },
  {
   "cell_type": "markdown",
   "id": "fc2da6d4-fb28-4b58-bf76-bc19dc90644d",
   "metadata": {},
   "source": [
    "# 3. Exploratory Data Analysis and Visualization"
   ]
  },
  {
   "cell_type": "markdown",
   "id": "b401447c-52ad-43c1-a978-af7ea6cce190",
   "metadata": {},
   "source": [
    "First we load the dataset."
   ]
  },
  {
   "cell_type": "code",
   "execution_count": 2,
   "id": "921b4fa0-21a9-42e3-a0d7-454e3fd8799f",
   "metadata": {
    "tags": [],
    "vscode": {
     "languageId": "r"
    }
   },
   "outputs": [
    {
     "data": {
      "text/html": [
       "303"
      ],
      "text/latex": [
       "303"
      ],
      "text/markdown": [
       "303"
      ],
      "text/plain": [
       "[1] 303"
      ]
     },
     "metadata": {},
     "output_type": "display_data"
    },
    {
     "data": {
      "text/html": [
       "<table class=\"dataframe\">\n",
       "<caption>A data.table: 6 × 14</caption>\n",
       "<thead>\n",
       "\t<tr><th scope=col>age</th><th scope=col>sex</th><th scope=col>cp</th><th scope=col>testbps</th><th scope=col>chol</th><th scope=col>fbs</th><th scope=col>restecg</th><th scope=col>thalach</th><th scope=col>exang</th><th scope=col>oldpeak</th><th scope=col>slope</th><th scope=col>ca</th><th scope=col>thal</th><th scope=col>num</th></tr>\n",
       "\t<tr><th scope=col>&lt;dbl&gt;</th><th scope=col>&lt;dbl&gt;</th><th scope=col>&lt;dbl&gt;</th><th scope=col>&lt;dbl&gt;</th><th scope=col>&lt;dbl&gt;</th><th scope=col>&lt;dbl&gt;</th><th scope=col>&lt;dbl&gt;</th><th scope=col>&lt;dbl&gt;</th><th scope=col>&lt;dbl&gt;</th><th scope=col>&lt;dbl&gt;</th><th scope=col>&lt;dbl&gt;</th><th scope=col>&lt;chr&gt;</th><th scope=col>&lt;chr&gt;</th><th scope=col>&lt;int&gt;</th></tr>\n",
       "</thead>\n",
       "<tbody>\n",
       "\t<tr><td>63</td><td>1</td><td>1</td><td>145</td><td>233</td><td>1</td><td>2</td><td>150</td><td>0</td><td>2.3</td><td>3</td><td>0.0</td><td>6.0</td><td>0</td></tr>\n",
       "\t<tr><td>67</td><td>1</td><td>4</td><td>160</td><td>286</td><td>0</td><td>2</td><td>108</td><td>1</td><td>1.5</td><td>2</td><td>3.0</td><td>3.0</td><td>2</td></tr>\n",
       "\t<tr><td>67</td><td>1</td><td>4</td><td>120</td><td>229</td><td>0</td><td>2</td><td>129</td><td>1</td><td>2.6</td><td>2</td><td>2.0</td><td>7.0</td><td>1</td></tr>\n",
       "\t<tr><td>37</td><td>1</td><td>3</td><td>130</td><td>250</td><td>0</td><td>0</td><td>187</td><td>0</td><td>3.5</td><td>3</td><td>0.0</td><td>3.0</td><td>0</td></tr>\n",
       "\t<tr><td>41</td><td>0</td><td>2</td><td>130</td><td>204</td><td>0</td><td>2</td><td>172</td><td>0</td><td>1.4</td><td>1</td><td>0.0</td><td>3.0</td><td>0</td></tr>\n",
       "\t<tr><td>56</td><td>1</td><td>2</td><td>120</td><td>236</td><td>0</td><td>0</td><td>178</td><td>0</td><td>0.8</td><td>1</td><td>0.0</td><td>3.0</td><td>0</td></tr>\n",
       "</tbody>\n",
       "</table>\n"
      ],
      "text/latex": [
       "A data.table: 6 × 14\n",
       "\\begin{tabular}{llllllllllllll}\n",
       " age & sex & cp & testbps & chol & fbs & restecg & thalach & exang & oldpeak & slope & ca & thal & num\\\\\n",
       " <dbl> & <dbl> & <dbl> & <dbl> & <dbl> & <dbl> & <dbl> & <dbl> & <dbl> & <dbl> & <dbl> & <chr> & <chr> & <int>\\\\\n",
       "\\hline\n",
       "\t 63 & 1 & 1 & 145 & 233 & 1 & 2 & 150 & 0 & 2.3 & 3 & 0.0 & 6.0 & 0\\\\\n",
       "\t 67 & 1 & 4 & 160 & 286 & 0 & 2 & 108 & 1 & 1.5 & 2 & 3.0 & 3.0 & 2\\\\\n",
       "\t 67 & 1 & 4 & 120 & 229 & 0 & 2 & 129 & 1 & 2.6 & 2 & 2.0 & 7.0 & 1\\\\\n",
       "\t 37 & 1 & 3 & 130 & 250 & 0 & 0 & 187 & 0 & 3.5 & 3 & 0.0 & 3.0 & 0\\\\\n",
       "\t 41 & 0 & 2 & 130 & 204 & 0 & 2 & 172 & 0 & 1.4 & 1 & 0.0 & 3.0 & 0\\\\\n",
       "\t 56 & 1 & 2 & 120 & 236 & 0 & 0 & 178 & 0 & 0.8 & 1 & 0.0 & 3.0 & 0\\\\\n",
       "\\end{tabular}\n"
      ],
      "text/markdown": [
       "\n",
       "A data.table: 6 × 14\n",
       "\n",
       "| age &lt;dbl&gt; | sex &lt;dbl&gt; | cp &lt;dbl&gt; | testbps &lt;dbl&gt; | chol &lt;dbl&gt; | fbs &lt;dbl&gt; | restecg &lt;dbl&gt; | thalach &lt;dbl&gt; | exang &lt;dbl&gt; | oldpeak &lt;dbl&gt; | slope &lt;dbl&gt; | ca &lt;chr&gt; | thal &lt;chr&gt; | num &lt;int&gt; |\n",
       "|---|---|---|---|---|---|---|---|---|---|---|---|---|---|\n",
       "| 63 | 1 | 1 | 145 | 233 | 1 | 2 | 150 | 0 | 2.3 | 3 | 0.0 | 6.0 | 0 |\n",
       "| 67 | 1 | 4 | 160 | 286 | 0 | 2 | 108 | 1 | 1.5 | 2 | 3.0 | 3.0 | 2 |\n",
       "| 67 | 1 | 4 | 120 | 229 | 0 | 2 | 129 | 1 | 2.6 | 2 | 2.0 | 7.0 | 1 |\n",
       "| 37 | 1 | 3 | 130 | 250 | 0 | 0 | 187 | 0 | 3.5 | 3 | 0.0 | 3.0 | 0 |\n",
       "| 41 | 0 | 2 | 130 | 204 | 0 | 2 | 172 | 0 | 1.4 | 1 | 0.0 | 3.0 | 0 |\n",
       "| 56 | 1 | 2 | 120 | 236 | 0 | 0 | 178 | 0 | 0.8 | 1 | 0.0 | 3.0 | 0 |\n",
       "\n"
      ],
      "text/plain": [
       "  age sex cp testbps chol fbs restecg thalach exang oldpeak slope ca  thal num\n",
       "1 63  1   1  145     233  1   2       150     0     2.3     3     0.0 6.0  0  \n",
       "2 67  1   4  160     286  0   2       108     1     1.5     2     3.0 3.0  2  \n",
       "3 67  1   4  120     229  0   2       129     1     2.6     2     2.0 7.0  1  \n",
       "4 37  1   3  130     250  0   0       187     0     3.5     3     0.0 3.0  0  \n",
       "5 41  0   2  130     204  0   2       172     0     1.4     1     0.0 3.0  0  \n",
       "6 56  1   2  120     236  0   0       178     0     0.8     1     0.0 3.0  0  "
      ]
     },
     "metadata": {},
     "output_type": "display_data"
    }
   ],
   "source": [
    "col_names = c(\"age\", \"sex\", \"cp\", \"testbps\", \"chol\", \"fbs\", \"restecg\", \"thalach\", \"exang\", \"oldpeak\", \"slope\", \"ca\", \"thal\", \"num\")\n",
    "\n",
    "heart_data <- fread(\"data/processed.cleveland.data\", col.names = col_names)\n",
    "nrow(heart_data)\n",
    "head(heart_data)"
   ]
  },
  {
   "cell_type": "markdown",
   "id": "f0cd3107-1374-4b8f-b900-a7454698f0d5",
   "metadata": {},
   "source": [
    "From part 1, we can see that there are a lot of categorical variables in this dataset. However, our current dataset has many of these categorical columns labeled as numerical which will cause inaccuracies with our model. To fix this, we can change these columns to categorical using `as.factor()`. Since `num` is our response variable and we need it to be binomial, we should also change the values in `num` to be `No` for a value of 0, and `Yes` for values 1-4."
   ]
  },
  {
   "cell_type": "code",
   "execution_count": 3,
   "id": "8c316a2b-a25e-4155-8961-28b53a042127",
   "metadata": {
    "tags": [],
    "vscode": {
     "languageId": "r"
    }
   },
   "outputs": [
    {
     "data": {
      "text/html": [
       "<table class=\"dataframe\">\n",
       "<caption>A data.table: 6 × 14</caption>\n",
       "<thead>\n",
       "\t<tr><th scope=col>age</th><th scope=col>sex</th><th scope=col>cp</th><th scope=col>testbps</th><th scope=col>chol</th><th scope=col>fbs</th><th scope=col>restecg</th><th scope=col>thalach</th><th scope=col>exang</th><th scope=col>oldpeak</th><th scope=col>slope</th><th scope=col>ca</th><th scope=col>thal</th><th scope=col>num</th></tr>\n",
       "\t<tr><th scope=col>&lt;dbl&gt;</th><th scope=col>&lt;fct&gt;</th><th scope=col>&lt;fct&gt;</th><th scope=col>&lt;dbl&gt;</th><th scope=col>&lt;dbl&gt;</th><th scope=col>&lt;fct&gt;</th><th scope=col>&lt;fct&gt;</th><th scope=col>&lt;dbl&gt;</th><th scope=col>&lt;fct&gt;</th><th scope=col>&lt;dbl&gt;</th><th scope=col>&lt;fct&gt;</th><th scope=col>&lt;fct&gt;</th><th scope=col>&lt;fct&gt;</th><th scope=col>&lt;chr&gt;</th></tr>\n",
       "</thead>\n",
       "<tbody>\n",
       "\t<tr><td>63</td><td>1</td><td>1</td><td>145</td><td>233</td><td>1</td><td>2</td><td>150</td><td>0</td><td>2.3</td><td>3</td><td>0.0</td><td>6.0</td><td>No </td></tr>\n",
       "\t<tr><td>67</td><td>1</td><td>4</td><td>160</td><td>286</td><td>0</td><td>2</td><td>108</td><td>1</td><td>1.5</td><td>2</td><td>3.0</td><td>3.0</td><td>Yes</td></tr>\n",
       "\t<tr><td>67</td><td>1</td><td>4</td><td>120</td><td>229</td><td>0</td><td>2</td><td>129</td><td>1</td><td>2.6</td><td>2</td><td>2.0</td><td>7.0</td><td>Yes</td></tr>\n",
       "\t<tr><td>37</td><td>1</td><td>3</td><td>130</td><td>250</td><td>0</td><td>0</td><td>187</td><td>0</td><td>3.5</td><td>3</td><td>0.0</td><td>3.0</td><td>No </td></tr>\n",
       "\t<tr><td>41</td><td>0</td><td>2</td><td>130</td><td>204</td><td>0</td><td>2</td><td>172</td><td>0</td><td>1.4</td><td>1</td><td>0.0</td><td>3.0</td><td>No </td></tr>\n",
       "\t<tr><td>56</td><td>1</td><td>2</td><td>120</td><td>236</td><td>0</td><td>0</td><td>178</td><td>0</td><td>0.8</td><td>1</td><td>0.0</td><td>3.0</td><td>No </td></tr>\n",
       "</tbody>\n",
       "</table>\n"
      ],
      "text/latex": [
       "A data.table: 6 × 14\n",
       "\\begin{tabular}{llllllllllllll}\n",
       " age & sex & cp & testbps & chol & fbs & restecg & thalach & exang & oldpeak & slope & ca & thal & num\\\\\n",
       " <dbl> & <fct> & <fct> & <dbl> & <dbl> & <fct> & <fct> & <dbl> & <fct> & <dbl> & <fct> & <fct> & <fct> & <chr>\\\\\n",
       "\\hline\n",
       "\t 63 & 1 & 1 & 145 & 233 & 1 & 2 & 150 & 0 & 2.3 & 3 & 0.0 & 6.0 & No \\\\\n",
       "\t 67 & 1 & 4 & 160 & 286 & 0 & 2 & 108 & 1 & 1.5 & 2 & 3.0 & 3.0 & Yes\\\\\n",
       "\t 67 & 1 & 4 & 120 & 229 & 0 & 2 & 129 & 1 & 2.6 & 2 & 2.0 & 7.0 & Yes\\\\\n",
       "\t 37 & 1 & 3 & 130 & 250 & 0 & 0 & 187 & 0 & 3.5 & 3 & 0.0 & 3.0 & No \\\\\n",
       "\t 41 & 0 & 2 & 130 & 204 & 0 & 2 & 172 & 0 & 1.4 & 1 & 0.0 & 3.0 & No \\\\\n",
       "\t 56 & 1 & 2 & 120 & 236 & 0 & 0 & 178 & 0 & 0.8 & 1 & 0.0 & 3.0 & No \\\\\n",
       "\\end{tabular}\n"
      ],
      "text/markdown": [
       "\n",
       "A data.table: 6 × 14\n",
       "\n",
       "| age &lt;dbl&gt; | sex &lt;fct&gt; | cp &lt;fct&gt; | testbps &lt;dbl&gt; | chol &lt;dbl&gt; | fbs &lt;fct&gt; | restecg &lt;fct&gt; | thalach &lt;dbl&gt; | exang &lt;fct&gt; | oldpeak &lt;dbl&gt; | slope &lt;fct&gt; | ca &lt;fct&gt; | thal &lt;fct&gt; | num &lt;chr&gt; |\n",
       "|---|---|---|---|---|---|---|---|---|---|---|---|---|---|\n",
       "| 63 | 1 | 1 | 145 | 233 | 1 | 2 | 150 | 0 | 2.3 | 3 | 0.0 | 6.0 | No  |\n",
       "| 67 | 1 | 4 | 160 | 286 | 0 | 2 | 108 | 1 | 1.5 | 2 | 3.0 | 3.0 | Yes |\n",
       "| 67 | 1 | 4 | 120 | 229 | 0 | 2 | 129 | 1 | 2.6 | 2 | 2.0 | 7.0 | Yes |\n",
       "| 37 | 1 | 3 | 130 | 250 | 0 | 0 | 187 | 0 | 3.5 | 3 | 0.0 | 3.0 | No  |\n",
       "| 41 | 0 | 2 | 130 | 204 | 0 | 2 | 172 | 0 | 1.4 | 1 | 0.0 | 3.0 | No  |\n",
       "| 56 | 1 | 2 | 120 | 236 | 0 | 0 | 178 | 0 | 0.8 | 1 | 0.0 | 3.0 | No  |\n",
       "\n"
      ],
      "text/plain": [
       "  age sex cp testbps chol fbs restecg thalach exang oldpeak slope ca  thal num\n",
       "1 63  1   1  145     233  1   2       150     0     2.3     3     0.0 6.0  No \n",
       "2 67  1   4  160     286  0   2       108     1     1.5     2     3.0 3.0  Yes\n",
       "3 67  1   4  120     229  0   2       129     1     2.6     2     2.0 7.0  Yes\n",
       "4 37  1   3  130     250  0   0       187     0     3.5     3     0.0 3.0  No \n",
       "5 41  0   2  130     204  0   2       172     0     1.4     1     0.0 3.0  No \n",
       "6 56  1   2  120     236  0   0       178     0     0.8     1     0.0 3.0  No "
      ]
     },
     "metadata": {},
     "output_type": "display_data"
    }
   ],
   "source": [
    "heart_data <- heart_data %>%\n",
    "    mutate(sex = as.factor(sex)) %>%\n",
    "    mutate(cp = as.factor(cp)) %>%\n",
    "    mutate(fbs = as.factor(fbs)) %>%\n",
    "    mutate(restecg = as.factor(restecg)) %>%\n",
    "    mutate(exang = as.factor(exang)) %>%\n",
    "    mutate(slope = as.factor(slope)) %>%\n",
    "    mutate(ca = as.factor(ca)) %>%\n",
    "    mutate(thal = as.factor(thal)) %>%\n",
    "    mutate(num = as.factor(num)) %>%\n",
    "    mutate(num = if_else(num == 0, \"No\", \"Yes\"))\n",
    "\n",
    "head(heart_data)"
   ]
  },
  {
   "cell_type": "markdown",
   "id": "d3c19f63-85f6-4de6-8237-b28fda3c64c3",
   "metadata": {},
   "source": [
    "Multicollinearity will be an issue that we have to look out for when fitting this model. To help identify potential covariates that are colinear, I will visualize the correlation between all covariates in the dataset using `ggpairs`. This way, the visualization can help me decide if I should drop any covariates before fitting the model due to colinearity which can help make the resulting model more reliable."
   ]
  },
  {
   "cell_type": "markdown",
   "id": "e0fe9808-bfc0-4987-a9ac-773f6e12cbec",
   "metadata": {},
   "source": [
    "# 4. Methods and Plan"
   ]
  },
  {
   "cell_type": "markdown",
   "id": "333130d5-3319-434d-9f3d-fdf9d3d95592",
   "metadata": {},
   "source": [
    "To help find the best subset of covariates to use in the model, I plan to use forward selection as my method. This method is appropriate because it is designed to find the best subset of covariates of each size, which is one of the tasks I am trying to accomplish. There are also no assumptions that have to be met for forward selection. A slight weakness of using forward selection is that because it is a greedy algorithm, the solutions it finds may not be the most optimal. However, it is much more faster than brute forcing every possible combination and is thus an acceptable trade-off. To evaluate which subset of covariates performs the best, I will use the BIC metric as my criteria and choose the subset with the best BIC score. I decided to use BIC since it penalizes more complex models, which will help with overfitting."
   ]
  }
 ],
 "metadata": {
  "kernelspec": {
   "display_name": "R",
   "language": "R",
   "name": "ir"
  },
  "language_info": {
   "codemirror_mode": "r",
   "file_extension": ".r",
   "mimetype": "text/x-r-source",
   "name": "R",
   "pygments_lexer": "r",
   "version": "4.2.3"
  }
 },
 "nbformat": 4,
 "nbformat_minor": 5
}
